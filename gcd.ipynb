{
  "nbformat": 4,
  "nbformat_minor": 0,
  "metadata": {
    "colab": {
      "provenance": []
    },
    "kernelspec": {
      "name": "python3",
      "display_name": "Python 3"
    },
    "language_info": {
      "name": "python"
    }
  },
  "cells": [
    {
      "cell_type": "code",
      "execution_count": 2,
      "metadata": {
        "colab": {
          "base_uri": "https://localhost:8080/"
        },
        "id": "3155n4wGd3Zf",
        "outputId": "097e64dd-b816-4199-901b-f9f15082412e"
      },
      "outputs": [
        {
          "output_type": "stream",
          "name": "stdout",
          "text": [
            "1220 516\n",
            "\n",
            "516 188\n",
            "\n",
            "188 140\n",
            "\n",
            "140 48\n",
            "\n",
            "48 44\n",
            "\n",
            "44 4\n",
            "\n",
            "4 0\n",
            "\n"
          ]
        },
        {
          "output_type": "execute_result",
          "data": {
            "text/plain": [
              "4"
            ]
          },
          "metadata": {},
          "execution_count": 2
        }
      ],
      "source": [
        "def gcd(a,b):\n",
        "  print(str(a)+' '+str(b)+'\\n')\n",
        "  if b == 0:\n",
        "    return a\n",
        "  else:\n",
        "    return gcd(b,(a%b))\n",
        "\n",
        "gcd(1220,516)"
      ]
    }
  ]
}